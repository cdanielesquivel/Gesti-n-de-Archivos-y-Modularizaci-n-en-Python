{
 "cells": [
  {
   "cell_type": "markdown",
   "metadata": {},
   "source": [
    "## Lectura y escritura de archivos en Python para análisis de datos\n",
    "\n",
    "**1. Lectura de archivos:**\n",
    "\n",
    "**1.1 Abriendo la puerta a los datos con** open()\n",
    "\n",
    "Para leer un archivo, utilizamos la función open(), la cual nos devuelve un objeto file. Este objeto nos permite acceder al contenido del archivo. Veamos la sintaxis básica:"
   ]
  },
  {
   "cell_type": "code",
   "execution_count": 2,
   "metadata": {},
   "outputs": [],
   "source": [
    "archivo = open(\"archivo.txt\", \"r\")  # \"r\" indica modo lectura"
   ]
  },
  {
   "cell_type": "markdown",
   "metadata": {},
   "source": [
    "\n",
    "**Explicación:**\n",
    "\n",
    "- archivo es la variable que almacena el objeto file asociado al archivo \"archivo.txt\".\n",
    "- \"r\" indica que abrimos el archivo en modo lectura.\n",
    "\n",
    "**1.2 Leyendo línea a línea con** readline()\n",
    "\n",
    "  La función readline() lee una línea del archivo a la vez y la devuelve como una cadena de texto. Veamos un ejemplo:"
   ]
  },
  {
   "cell_type": "code",
   "execution_count": 5,
   "metadata": {},
   "outputs": [
    {
     "name": "stdout",
     "output_type": "stream",
     "text": [
      "Curso Python\n",
      "\n",
      "\n",
      " Prof. AndrÃ©s\n",
      "\n",
      "\n",
      " ICAI UNA\n",
      "\n",
      "\n",
      " FIN\n"
     ]
    },
    {
     "ename": "KeyboardInterrupt",
     "evalue": "",
     "output_type": "error",
     "traceback": [
      "\u001b[1;31m---------------------------------------------------------------------------\u001b[0m",
      "\u001b[1;31mKeyboardInterrupt\u001b[0m                         Traceback (most recent call last)",
      "Cell \u001b[1;32mIn[5], line 7\u001b[0m\n\u001b[0;32m      4\u001b[0m \u001b[38;5;28mprint\u001b[39m(linea)  \u001b[38;5;66;03m# Imprime la línea leída\u001b[39;00m\n\u001b[0;32m      6\u001b[0m \u001b[38;5;66;03m# Leyendo y procesando cada línea\u001b[39;00m\n\u001b[1;32m----> 7\u001b[0m \u001b[38;5;28;01mwhile\u001b[39;00m \u001b[43mlinea\u001b[49m:\n\u001b[0;32m      8\u001b[0m     \u001b[38;5;66;03m# Procesar la línea aquí (por ejemplo, limpiar o analizar datos)\u001b[39;00m\n\u001b[0;32m      9\u001b[0m     linea \u001b[38;5;241m=\u001b[39m archivo\u001b[38;5;241m.\u001b[39mreadline()\n\u001b[0;32m     10\u001b[0m     \u001b[38;5;28mprint\u001b[39m(\u001b[38;5;124m'\u001b[39m\u001b[38;5;130;01m\\n\u001b[39;00m\u001b[38;5;124m'\u001b[39m, linea)\n",
      "File \u001b[1;32m<stringsource>:69\u001b[0m, in \u001b[0;36mcfunc.to_py.__Pyx_CFunc_b0409f__29_pydevd_sys_monitoring_cython_object__lParen__etc_to_py_4code_4line.wrap\u001b[1;34m()\u001b[0m\n",
      "File \u001b[1;32m_pydevd_sys_monitoring\\\\_pydevd_sys_monitoring_cython.pyx:1470\u001b[0m, in \u001b[0;36m_pydevd_sys_monitoring_cython._line_event\u001b[1;34m()\u001b[0m\n",
      "File \u001b[1;32m_pydevd_sys_monitoring\\\\_pydevd_sys_monitoring_cython.pyx:1575\u001b[0m, in \u001b[0;36m_pydevd_sys_monitoring_cython._internal_line_event\u001b[1;34m()\u001b[0m\n",
      "File \u001b[1;32m_pydevd_sys_monitoring\\\\_pydevd_sys_monitoring_cython.pyx:1950\u001b[0m, in \u001b[0;36m_pydevd_sys_monitoring_cython._do_wait_suspend\u001b[1;34m()\u001b[0m\n",
      "File \u001b[1;32m~\\AppData\\Roaming\\Python\\Python313\\site-packages\\debugpy\\_vendored\\pydevd\\pydevd.py:2185\u001b[0m, in \u001b[0;36mPyDB.do_wait_suspend\u001b[1;34m(self, thread, frame, event, arg, exception_type)\u001b[0m\n\u001b[0;32m   2182\u001b[0m             from_this_thread\u001b[38;5;241m.\u001b[39mappend(frame_custom_thread_id)\n\u001b[0;32m   2184\u001b[0m     \u001b[38;5;28;01mwith\u001b[39;00m \u001b[38;5;28mself\u001b[39m\u001b[38;5;241m.\u001b[39m_threads_suspended_single_notification\u001b[38;5;241m.\u001b[39mnotify_thread_suspended(thread_id, thread, stop_reason):\n\u001b[1;32m-> 2185\u001b[0m         keep_suspended \u001b[38;5;241m=\u001b[39m \u001b[38;5;28;43mself\u001b[39;49m\u001b[38;5;241;43m.\u001b[39;49m\u001b[43m_do_wait_suspend\u001b[49m\u001b[43m(\u001b[49m\u001b[43mthread\u001b[49m\u001b[43m,\u001b[49m\u001b[43m \u001b[49m\u001b[43mframe\u001b[49m\u001b[43m,\u001b[49m\u001b[43m \u001b[49m\u001b[43mevent\u001b[49m\u001b[43m,\u001b[49m\u001b[43m \u001b[49m\u001b[43marg\u001b[49m\u001b[43m,\u001b[49m\u001b[43m \u001b[49m\u001b[43mtrace_suspend_type\u001b[49m\u001b[43m,\u001b[49m\u001b[43m \u001b[49m\u001b[43mfrom_this_thread\u001b[49m\u001b[43m,\u001b[49m\u001b[43m \u001b[49m\u001b[43mframes_tracker\u001b[49m\u001b[43m)\u001b[49m\n\u001b[0;32m   2187\u001b[0m frames_list \u001b[38;5;241m=\u001b[39m \u001b[38;5;28;01mNone\u001b[39;00m\n\u001b[0;32m   2189\u001b[0m \u001b[38;5;28;01mif\u001b[39;00m keep_suspended:\n\u001b[0;32m   2190\u001b[0m     \u001b[38;5;66;03m# This means that we should pause again after a set next statement.\u001b[39;00m\n",
      "File \u001b[1;32m~\\AppData\\Roaming\\Python\\Python313\\site-packages\\debugpy\\_vendored\\pydevd\\pydevd.py:2254\u001b[0m, in \u001b[0;36mPyDB._do_wait_suspend\u001b[1;34m(self, thread, frame, event, arg, trace_suspend_type, from_this_thread, frames_tracker)\u001b[0m\n\u001b[0;32m   2251\u001b[0m                 queue\u001b[38;5;241m.\u001b[39mput(internal_cmd)\n\u001b[0;32m   2252\u001b[0m                 wait_timeout \u001b[38;5;241m=\u001b[39m TIMEOUT_FAST\n\u001b[1;32m-> 2254\u001b[0m         \u001b[43mnotify_event\u001b[49m\u001b[38;5;241;43m.\u001b[39;49m\u001b[43mwait\u001b[49m\u001b[43m(\u001b[49m\u001b[43mwait_timeout\u001b[49m\u001b[43m)\u001b[49m\n\u001b[0;32m   2255\u001b[0m         notify_event\u001b[38;5;241m.\u001b[39mclear()\n\u001b[0;32m   2257\u001b[0m \u001b[38;5;28;01mfinally\u001b[39;00m:\n",
      "File \u001b[1;32mc:\\Users\\11727\\AppData\\Local\\Programs\\Python\\Python313\\Lib\\threading.py:659\u001b[0m, in \u001b[0;36mEvent.wait\u001b[1;34m(self, timeout)\u001b[0m\n\u001b[0;32m    657\u001b[0m signaled \u001b[38;5;241m=\u001b[39m \u001b[38;5;28mself\u001b[39m\u001b[38;5;241m.\u001b[39m_flag\n\u001b[0;32m    658\u001b[0m \u001b[38;5;28;01mif\u001b[39;00m \u001b[38;5;129;01mnot\u001b[39;00m signaled:\n\u001b[1;32m--> 659\u001b[0m     signaled \u001b[38;5;241m=\u001b[39m \u001b[38;5;28;43mself\u001b[39;49m\u001b[38;5;241;43m.\u001b[39;49m\u001b[43m_cond\u001b[49m\u001b[38;5;241;43m.\u001b[39;49m\u001b[43mwait\u001b[49m\u001b[43m(\u001b[49m\u001b[43mtimeout\u001b[49m\u001b[43m)\u001b[49m\n\u001b[0;32m    660\u001b[0m \u001b[38;5;28;01mreturn\u001b[39;00m signaled\n",
      "File \u001b[1;32mc:\\Users\\11727\\AppData\\Local\\Programs\\Python\\Python313\\Lib\\threading.py:363\u001b[0m, in \u001b[0;36mCondition.wait\u001b[1;34m(self, timeout)\u001b[0m\n\u001b[0;32m    361\u001b[0m \u001b[38;5;28;01melse\u001b[39;00m:\n\u001b[0;32m    362\u001b[0m     \u001b[38;5;28;01mif\u001b[39;00m timeout \u001b[38;5;241m>\u001b[39m \u001b[38;5;241m0\u001b[39m:\n\u001b[1;32m--> 363\u001b[0m         gotit \u001b[38;5;241m=\u001b[39m \u001b[43mwaiter\u001b[49m\u001b[38;5;241;43m.\u001b[39;49m\u001b[43macquire\u001b[49m\u001b[43m(\u001b[49m\u001b[38;5;28;43;01mTrue\u001b[39;49;00m\u001b[43m,\u001b[49m\u001b[43m \u001b[49m\u001b[43mtimeout\u001b[49m\u001b[43m)\u001b[49m\n\u001b[0;32m    364\u001b[0m     \u001b[38;5;28;01melse\u001b[39;00m:\n\u001b[0;32m    365\u001b[0m         gotit \u001b[38;5;241m=\u001b[39m waiter\u001b[38;5;241m.\u001b[39macquire(\u001b[38;5;28;01mFalse\u001b[39;00m)\n",
      "\u001b[1;31mKeyboardInterrupt\u001b[0m: "
     ]
    }
   ],
   "source": [
    "archivo = open(\"archivo.txt\", \"r\")  # \"r\" indica modo lectura\n",
    "\n",
    "linea = archivo.readline()\n",
    "print(linea)  # Imprime la línea leída\n",
    "\n",
    "# Leyendo y procesando cada línea\n",
    "while linea:\n",
    "    # Procesar la línea aquí (por ejemplo, limpiar o analizar datos)\n",
    "    linea = archivo.readline()\n",
    "    print('\\n', linea)"
   ]
  },
  {
   "cell_type": "markdown",
   "metadata": {},
   "source": [
    "  **Explicación:**\n",
    "\n",
    "- linea almacena la línea leída del archivo.\n",
    "- print(linea) muestra la línea en la consola.\n",
    "- El bucle while lee líneas hasta que no haya más en el archivo.\n",
    "\n",
    "**1.3 Leyendo todo el contenido con** read()\n",
    "\n",
    "  Si deseas leer todo el contenido del archivo a la vez, puedes usar read():"
   ]
  },
  {
   "cell_type": "code",
   "execution_count": 7,
   "metadata": {},
   "outputs": [
    {
     "name": "stdout",
     "output_type": "stream",
     "text": [
      "Curso Python\n",
      "Prof. AndrÃ©s\n",
      "ICAI UNA\n",
      "FIN\n"
     ]
    }
   ],
   "source": [
    "archivo = open(\"archivo.txt\", \"r\")  # \"r\" indica modo lectura\n",
    "contenido = archivo.read()\n",
    "print(contenido)"
   ]
  },
  {
   "cell_type": "markdown",
   "metadata": {},
   "source": [
    "**Explicación:**\n",
    "\n",
    "- contenido almacena todo el texto del archivo como una cadena de texto.\n",
    "- print(contenido) muestra todo el contenido en la consola.\n",
    "\n",
    "**1.4 Cerrando la puerta con** close()\n",
    "\n",
    "  Es fundamental cerrar el archivo una vez que termines de usarlo:\n"
   ]
  },
  {
   "cell_type": "code",
   "execution_count": 8,
   "metadata": {},
   "outputs": [],
   "source": [
    "archivo.close()"
   ]
  },
  {
   "cell_type": "markdown",
   "metadata": {},
   "source": [
    "**Explicación:**\n",
    "\n",
    "- archivo.close() libera los recursos asociados al archivo y garantiza su correcto cierre.\n",
    "\n",
    "**2. Escritura de archivos:**\n",
    "\n",
    "**2.1 Creando y escribiendo con** open()\n",
    "\n",
    "  Para escribir en un archivo, utilizamos open() en modo escritura:"
   ]
  },
  {
   "cell_type": "code",
   "execution_count": 9,
   "metadata": {},
   "outputs": [],
   "source": [
    "archivo = open(\"archivo_nuevo.txt\", \"w\")  # \"w\" indica modo escritura\n",
    "archivo.write(\"¡Hola, mundo!\\n\")  # Escribe una línea en el archivo\n",
    "archivo.close()"
   ]
  },
  {
   "cell_type": "markdown",
   "metadata": {},
   "source": [
    "  **Explicación:**\n",
    "\n",
    "- archivo es la variable que almacena el objeto file asociado al archivo \"archivo\\_nuevo.txt\".\n",
    "- \"w\" indica que abrimos el archivo en modo escritura (sobrescribiendo el contenido existente).\n",
    "- archivo.write(\"¡Hola, mundo!\\n\") escribe la cadena \"Hola, mundo!\" en el archivo, incluyendo un salto de línea (\\n).\n",
    "- archivo.close() cierra el archivo.\n",
    "\n",
    "\n",
    "**2.2 Agregando contenido con** append()\n",
    "\n",
    "  Si deseas agregar contenido al final de un archivo existente, utiliza el modo append:"
   ]
  },
  {
   "cell_type": "code",
   "execution_count": 10,
   "metadata": {},
   "outputs": [],
   "source": [
    "archivo = open(\"archivo_nuevo.txt\", \"a\") # \"wa\" indica modo append o agregar\n",
    "archivo.write(\"¡Más datos para el archivo!\\n\")\n",
    "archivo.close()"
   ]
  },
  {
   "cell_type": "markdown",
   "metadata": {},
   "source": [
    "**Explicación:**\n",
    "\n",
    "- \"a\" indica que abrimos el archivo en modo append (agregando contenido al final).\n",
    "- La escritura funciona igual que en modo w.\n",
    "\n",
    "**3. Manejo de excepciones:**\n",
    "\n",
    "  **3.1 Protegiéndonos con** try...except\n",
    "\n",
    "  Es importante proteger nuestro código de posibles errores al trabajar con archivos. Para ello, utilizamos el bloque try...except:"
   ]
  },
  {
   "cell_type": "code",
   "execution_count": 11,
   "metadata": {},
   "outputs": [
    {
     "name": "stdout",
     "output_type": "stream",
     "text": [
      "Error al abrir el archivo: division by zero\n",
      "Se cerró\n"
     ]
    }
   ],
   "source": [
    "try:\n",
    "    archivo = open(\"archivo.txt\", \"r\")\n",
    "    error_div = 4 / 0 # ERROR \n",
    "    # Operaciones con el archivo\n",
    "except Exception as e:  # Captura cualquier excepción\n",
    "    print(f\"Error al abrir el archivo: {e}\")\n",
    "finally:\n",
    "    if archivo:\n",
    "        archivo.close()\n",
    "        print('Se cerró')"
   ]
  },
  {
   "cell_type": "markdown",
   "metadata": {},
   "source": [
    "  **Explicación:**\n",
    "\n",
    "- try: contiene el código que podría generar errores.\n",
    "- except Exception as e: captura cualquier excepción que ocurra en el bloque try.\n",
    "- print(f\"Error al abrir el archivo: {e}\") muestra un mensaje de error con la información de la excepción.\n",
    "- finally: se ejecuta siempre, incluso si hay un error o no."
   ]
  },
  {
   "cell_type": "markdown",
   "metadata": {},
   "source": [
    "## Ejemplo\n",
    "\n",
    "En este ejemplo, demostraremos cómo leer un archivo de texto y, si no existe, crearlo utilizando únicamente recursos nativos de Python."
   ]
  },
  {
   "cell_type": "code",
   "execution_count": 13,
   "metadata": {},
   "outputs": [
    {
     "name": "stdout",
     "output_type": "stream",
     "text": [
      "El contenido del archivo Carlos.txt es:\n",
      "Este es el contenido del archivo.\n"
     ]
    }
   ],
   "source": [
    "def leer_archivo(nombre_archivo):\n",
    "    \"\"\"\n",
    "    Función para leer un archivo de texto.\n",
    "\n",
    "    Args:\n",
    "        nombre_archivo (str): El nombre del archivo a leer.\n",
    "\n",
    "    Returns:\n",
    "        str: El contenido del archivo si existe, o una cadena vacía si no existe.\n",
    "    \"\"\"\n",
    "    try:\n",
    "        with open(nombre_archivo, \"r\") as archivo:\n",
    "            contenido = archivo.read()\n",
    "            return contenido\n",
    "    except FileNotFoundError:\n",
    "        return \"\"\n",
    "\n",
    "\n",
    "def crear_archivo(nombre_archivo, contenido):\n",
    "    \"\"\"\n",
    "    Función para crear un archivo de texto y escribir contenido en él.\n",
    "\n",
    "    Args:\n",
    "        nombre_archivo (str): El nombre del archivo a crear.\n",
    "        contenido (str): El contenido a escribir en el archivo.\n",
    "    \"\"\"\n",
    "    with open(nombre_archivo, \"w\") as archivo:\n",
    "        archivo.write(contenido)\n",
    "\n",
    "\n",
    "nombre_archivo = \"Carlos.txt\"\n",
    "contenido_archivo = \"reto contenido\"\n",
    "\n",
    "# Intentamos leer el archivo\n",
    "contenido_leido = leer_archivo(nombre_archivo)\n",
    "\n",
    "# Si el archivo no existe, lo creamos y escribimos el contenido\n",
    "if not contenido_leido:\n",
    "    print(f\"El archivo {nombre_archivo} no existe. Creándolo...\")\n",
    "    crear_archivo(nombre_archivo, contenido_archivo)\n",
    "    print(\"Carlos Daniel Esquivel Bolaños.\")\n",
    "\n",
    "# Si el archivo existe, imprimimos su contenido\n",
    "else:\n",
    "    print(f\"El contenido del archivo {nombre_archivo} es:\")\n",
    "    print(contenido_leido)"
   ]
  }
 ],
 "metadata": {
  "kernelspec": {
   "display_name": "Python 3",
   "language": "python",
   "name": "python3"
  },
  "language_info": {
   "codemirror_mode": {
    "name": "ipython",
    "version": 3
   },
   "file_extension": ".py",
   "mimetype": "text/x-python",
   "name": "python",
   "nbconvert_exporter": "python",
   "pygments_lexer": "ipython3",
   "version": "3.13.1"
  }
 },
 "nbformat": 4,
 "nbformat_minor": 2
}
